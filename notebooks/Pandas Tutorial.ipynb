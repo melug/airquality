{
 "cells": [
  {
   "cell_type": "code",
   "execution_count": 1,
   "metadata": {
    "collapsed": false
   },
   "outputs": [
    {
     "name": "stderr",
     "output_type": "stream",
     "text": [
      "/home/tulga/anaconda2/envs/myenv/lib/python2.7/site-packages/matplotlib/font_manager.py:273: UserWarning: Matplotlib is building the font cache using fc-list. This may take a moment.\n",
      "  warnings.warn('Matplotlib is building the font cache using fc-list. This may take a moment.')\n"
     ]
    }
   ],
   "source": [
    "import pandas as pd\n",
    "import numpy as np\n",
    "import matplotlib.pyplot as plt"
   ]
  },
  {
   "cell_type": "code",
   "execution_count": 2,
   "metadata": {
    "collapsed": true
   },
   "outputs": [],
   "source": [
    "s = pd.Series([1,3,5, np.nan, 6,8])"
   ]
  },
  {
   "cell_type": "code",
   "execution_count": 3,
   "metadata": {
    "collapsed": false
   },
   "outputs": [
    {
     "data": {
      "text/plain": [
       "0    1.0\n",
       "1    3.0\n",
       "2    5.0\n",
       "3    NaN\n",
       "4    6.0\n",
       "5    8.0\n",
       "dtype: float64"
      ]
     },
     "execution_count": 3,
     "metadata": {},
     "output_type": "execute_result"
    }
   ],
   "source": [
    "s"
   ]
  },
  {
   "cell_type": "code",
   "execution_count": 4,
   "metadata": {
    "collapsed": true
   },
   "outputs": [],
   "source": [
    "dates = pd.date_range('20130101', periods=6)"
   ]
  },
  {
   "cell_type": "code",
   "execution_count": 5,
   "metadata": {
    "collapsed": false
   },
   "outputs": [
    {
     "data": {
      "text/plain": [
       "DatetimeIndex(['2013-01-01', '2013-01-02', '2013-01-03', '2013-01-04',\n",
       "               '2013-01-05', '2013-01-06'],\n",
       "              dtype='datetime64[ns]', freq='D')"
      ]
     },
     "execution_count": 5,
     "metadata": {},
     "output_type": "execute_result"
    }
   ],
   "source": [
    "dates"
   ]
  },
  {
   "cell_type": "code",
   "execution_count": 6,
   "metadata": {
    "collapsed": true
   },
   "outputs": [],
   "source": [
    "df = pd.DataFrame(np.random.randn(6, 4), index=dates, columns=list('ABCD'))"
   ]
  },
  {
   "cell_type": "code",
   "execution_count": 8,
   "metadata": {
    "collapsed": false
   },
   "outputs": [
    {
     "data": {
      "text/html": [
       "<div>\n",
       "<table border=\"1\" class=\"dataframe\">\n",
       "  <thead>\n",
       "    <tr style=\"text-align: right;\">\n",
       "      <th></th>\n",
       "      <th>A</th>\n",
       "      <th>B</th>\n",
       "      <th>C</th>\n",
       "      <th>D</th>\n",
       "    </tr>\n",
       "  </thead>\n",
       "  <tbody>\n",
       "    <tr>\n",
       "      <th>2013-01-01</th>\n",
       "      <td>-0.024317</td>\n",
       "      <td>1.156864</td>\n",
       "      <td>0.529460</td>\n",
       "      <td>-1.126514</td>\n",
       "    </tr>\n",
       "    <tr>\n",
       "      <th>2013-01-02</th>\n",
       "      <td>0.386347</td>\n",
       "      <td>-0.059082</td>\n",
       "      <td>-0.527007</td>\n",
       "      <td>-1.049807</td>\n",
       "    </tr>\n",
       "    <tr>\n",
       "      <th>2013-01-03</th>\n",
       "      <td>-0.979832</td>\n",
       "      <td>1.652644</td>\n",
       "      <td>0.014641</td>\n",
       "      <td>-0.954398</td>\n",
       "    </tr>\n",
       "    <tr>\n",
       "      <th>2013-01-04</th>\n",
       "      <td>-2.072937</td>\n",
       "      <td>-2.454370</td>\n",
       "      <td>-0.215478</td>\n",
       "      <td>-0.316226</td>\n",
       "    </tr>\n",
       "    <tr>\n",
       "      <th>2013-01-05</th>\n",
       "      <td>0.101789</td>\n",
       "      <td>-0.790883</td>\n",
       "      <td>-0.760610</td>\n",
       "      <td>-0.203215</td>\n",
       "    </tr>\n",
       "    <tr>\n",
       "      <th>2013-01-06</th>\n",
       "      <td>0.511439</td>\n",
       "      <td>1.328770</td>\n",
       "      <td>-1.515879</td>\n",
       "      <td>0.731850</td>\n",
       "    </tr>\n",
       "  </tbody>\n",
       "</table>\n",
       "</div>"
      ],
      "text/plain": [
       "                   A         B         C         D\n",
       "2013-01-01 -0.024317  1.156864  0.529460 -1.126514\n",
       "2013-01-02  0.386347 -0.059082 -0.527007 -1.049807\n",
       "2013-01-03 -0.979832  1.652644  0.014641 -0.954398\n",
       "2013-01-04 -2.072937 -2.454370 -0.215478 -0.316226\n",
       "2013-01-05  0.101789 -0.790883 -0.760610 -0.203215\n",
       "2013-01-06  0.511439  1.328770 -1.515879  0.731850"
      ]
     },
     "execution_count": 8,
     "metadata": {},
     "output_type": "execute_result"
    }
   ],
   "source": [
    "df"
   ]
  },
  {
   "cell_type": "code",
   "execution_count": 8,
   "metadata": {
    "collapsed": true
   },
   "outputs": [],
   "source": [
    "df2 = pd.DataFrame({\n",
    "        'A':1,\n",
    "        'B':pd.Timestamp('20130102'),\n",
    "        'C':pd.Series(1,index=list(range(4)), dtype='float32'),\n",
    "        'D':np.array([3]*4, dtype='int32'),\n",
    "        'E':pd.Categorical([\"test\", \"train\", \"test\", \"train\"]),\n",
    "        'F':'foo'\n",
    "    })"
   ]
  },
  {
   "cell_type": "markdown",
   "metadata": {},
   "source": [
    "# Label based selection"
   ]
  },
  {
   "cell_type": "code",
   "execution_count": 37,
   "metadata": {
    "collapsed": false
   },
   "outputs": [
    {
     "data": {
      "text/html": [
       "<div>\n",
       "<table border=\"1\" class=\"dataframe\">\n",
       "  <thead>\n",
       "    <tr style=\"text-align: right;\">\n",
       "      <th></th>\n",
       "      <th>A</th>\n",
       "      <th>B</th>\n",
       "    </tr>\n",
       "  </thead>\n",
       "  <tbody>\n",
       "    <tr>\n",
       "      <th>2013-01-01</th>\n",
       "      <td>0.740435</td>\n",
       "      <td>0.304636</td>\n",
       "    </tr>\n",
       "    <tr>\n",
       "      <th>2013-01-02</th>\n",
       "      <td>-1.611051</td>\n",
       "      <td>1.322007</td>\n",
       "    </tr>\n",
       "    <tr>\n",
       "      <th>2013-01-03</th>\n",
       "      <td>-1.407734</td>\n",
       "      <td>1.224429</td>\n",
       "    </tr>\n",
       "  </tbody>\n",
       "</table>\n",
       "</div>"
      ],
      "text/plain": [
       "                   A         B\n",
       "2013-01-01  0.740435  0.304636\n",
       "2013-01-02 -1.611051  1.322007\n",
       "2013-01-03 -1.407734  1.224429"
      ]
     },
     "execution_count": 37,
     "metadata": {},
     "output_type": "execute_result"
    }
   ],
   "source": [
    "df.loc['2013-01-01':'2013-01-03',['A','B']]"
   ]
  },
  {
   "cell_type": "markdown",
   "metadata": {},
   "source": [
    "# Location based selection"
   ]
  },
  {
   "cell_type": "code",
   "execution_count": 48,
   "metadata": {
    "collapsed": false
   },
   "outputs": [
    {
     "data": {
      "text/html": [
       "<div>\n",
       "<table border=\"1\" class=\"dataframe\">\n",
       "  <thead>\n",
       "    <tr style=\"text-align: right;\">\n",
       "      <th></th>\n",
       "      <th>B</th>\n",
       "      <th>C</th>\n",
       "    </tr>\n",
       "  </thead>\n",
       "  <tbody>\n",
       "    <tr>\n",
       "      <th>2013-01-01</th>\n",
       "      <td>False</td>\n",
       "      <td>False</td>\n",
       "    </tr>\n",
       "    <tr>\n",
       "      <th>2013-01-02</th>\n",
       "      <td>True</td>\n",
       "      <td>False</td>\n",
       "    </tr>\n",
       "    <tr>\n",
       "      <th>2013-01-03</th>\n",
       "      <td>True</td>\n",
       "      <td>True</td>\n",
       "    </tr>\n",
       "    <tr>\n",
       "      <th>2013-01-04</th>\n",
       "      <td>True</td>\n",
       "      <td>False</td>\n",
       "    </tr>\n",
       "    <tr>\n",
       "      <th>2013-01-05</th>\n",
       "      <td>False</td>\n",
       "      <td>False</td>\n",
       "    </tr>\n",
       "    <tr>\n",
       "      <th>2013-01-06</th>\n",
       "      <td>False</td>\n",
       "      <td>False</td>\n",
       "    </tr>\n",
       "  </tbody>\n",
       "</table>\n",
       "</div>"
      ],
      "text/plain": [
       "                B      C\n",
       "2013-01-01  False  False\n",
       "2013-01-02   True  False\n",
       "2013-01-03   True   True\n",
       "2013-01-04   True  False\n",
       "2013-01-05  False  False\n",
       "2013-01-06  False  False"
      ]
     },
     "execution_count": 48,
     "metadata": {},
     "output_type": "execute_result"
    }
   ],
   "source": [
    "df.iloc[:,1:3]>1"
   ]
  },
  {
   "cell_type": "markdown",
   "metadata": {},
   "source": [
    "# Boolean indexing"
   ]
  },
  {
   "cell_type": "code",
   "execution_count": 52,
   "metadata": {
    "collapsed": false
   },
   "outputs": [
    {
     "data": {
      "text/html": [
       "<div>\n",
       "<table border=\"1\" class=\"dataframe\">\n",
       "  <thead>\n",
       "    <tr style=\"text-align: right;\">\n",
       "      <th></th>\n",
       "      <th>A</th>\n",
       "      <th>B</th>\n",
       "      <th>C</th>\n",
       "      <th>D</th>\n",
       "    </tr>\n",
       "  </thead>\n",
       "  <tbody>\n",
       "    <tr>\n",
       "      <th>2013-01-01</th>\n",
       "      <td>0.740435</td>\n",
       "      <td>0.304636</td>\n",
       "      <td>0.228293</td>\n",
       "      <td>-0.541962</td>\n",
       "    </tr>\n",
       "    <tr>\n",
       "      <th>2013-01-06</th>\n",
       "      <td>0.630417</td>\n",
       "      <td>-0.666657</td>\n",
       "      <td>0.731075</td>\n",
       "      <td>0.865674</td>\n",
       "    </tr>\n",
       "  </tbody>\n",
       "</table>\n",
       "</div>"
      ],
      "text/plain": [
       "                   A         B         C         D\n",
       "2013-01-01  0.740435  0.304636  0.228293 -0.541962\n",
       "2013-01-06  0.630417 -0.666657  0.731075  0.865674"
      ]
     },
     "execution_count": 52,
     "metadata": {},
     "output_type": "execute_result"
    }
   ],
   "source": [
    "df[df['A']>0]"
   ]
  },
  {
   "cell_type": "code",
   "execution_count": 54,
   "metadata": {
    "collapsed": false
   },
   "outputs": [
    {
     "data": {
      "text/html": [
       "<div>\n",
       "<table border=\"1\" class=\"dataframe\">\n",
       "  <thead>\n",
       "    <tr style=\"text-align: right;\">\n",
       "      <th></th>\n",
       "      <th>A</th>\n",
       "      <th>B</th>\n",
       "      <th>C</th>\n",
       "      <th>D</th>\n",
       "      <th>E</th>\n",
       "    </tr>\n",
       "  </thead>\n",
       "  <tbody>\n",
       "    <tr>\n",
       "      <th>2013-01-01</th>\n",
       "      <td>0.740435</td>\n",
       "      <td>0.304636</td>\n",
       "      <td>0.228293</td>\n",
       "      <td>-0.541962</td>\n",
       "      <td>one</td>\n",
       "    </tr>\n",
       "    <tr>\n",
       "      <th>2013-01-02</th>\n",
       "      <td>-1.611051</td>\n",
       "      <td>1.322007</td>\n",
       "      <td>-1.576251</td>\n",
       "      <td>0.349519</td>\n",
       "      <td>one</td>\n",
       "    </tr>\n",
       "    <tr>\n",
       "      <th>2013-01-03</th>\n",
       "      <td>-1.407734</td>\n",
       "      <td>1.224429</td>\n",
       "      <td>1.659252</td>\n",
       "      <td>-0.311625</td>\n",
       "      <td>two</td>\n",
       "    </tr>\n",
       "    <tr>\n",
       "      <th>2013-01-04</th>\n",
       "      <td>-0.454860</td>\n",
       "      <td>1.438757</td>\n",
       "      <td>-1.665337</td>\n",
       "      <td>0.170835</td>\n",
       "      <td>three</td>\n",
       "    </tr>\n",
       "    <tr>\n",
       "      <th>2013-01-05</th>\n",
       "      <td>-0.479679</td>\n",
       "      <td>0.933941</td>\n",
       "      <td>-0.199075</td>\n",
       "      <td>-2.528199</td>\n",
       "      <td>four</td>\n",
       "    </tr>\n",
       "    <tr>\n",
       "      <th>2013-01-06</th>\n",
       "      <td>0.630417</td>\n",
       "      <td>-0.666657</td>\n",
       "      <td>0.731075</td>\n",
       "      <td>0.865674</td>\n",
       "      <td>three</td>\n",
       "    </tr>\n",
       "  </tbody>\n",
       "</table>\n",
       "</div>"
      ],
      "text/plain": [
       "                   A         B         C         D      E\n",
       "2013-01-01  0.740435  0.304636  0.228293 -0.541962    one\n",
       "2013-01-02 -1.611051  1.322007 -1.576251  0.349519    one\n",
       "2013-01-03 -1.407734  1.224429  1.659252 -0.311625    two\n",
       "2013-01-04 -0.454860  1.438757 -1.665337  0.170835  three\n",
       "2013-01-05 -0.479679  0.933941 -0.199075 -2.528199   four\n",
       "2013-01-06  0.630417 -0.666657  0.731075  0.865674  three"
      ]
     },
     "execution_count": 54,
     "metadata": {},
     "output_type": "execute_result"
    }
   ],
   "source": [
    "df2 = df.copy()\n",
    "df2['E'] = ['one', 'one', 'two', 'three', 'four', 'three']\n",
    "df2"
   ]
  },
  {
   "cell_type": "markdown",
   "metadata": {},
   "source": [
    "# Setting\n",
    "Setting a new column automatically aligns the data by the indexes"
   ]
  },
  {
   "cell_type": "code",
   "execution_count": 55,
   "metadata": {
    "collapsed": true
   },
   "outputs": [],
   "source": [
    "s1 = pd.Series([1,2,3,4,5,6], index=pd.date_range('20130102', periods=6))"
   ]
  },
  {
   "cell_type": "code",
   "execution_count": 56,
   "metadata": {
    "collapsed": false
   },
   "outputs": [
    {
     "data": {
      "text/plain": [
       "2013-01-02    1\n",
       "2013-01-03    2\n",
       "2013-01-04    3\n",
       "2013-01-05    4\n",
       "2013-01-06    5\n",
       "2013-01-07    6\n",
       "Freq: D, dtype: int64"
      ]
     },
     "execution_count": 56,
     "metadata": {},
     "output_type": "execute_result"
    }
   ],
   "source": [
    "s1"
   ]
  },
  {
   "cell_type": "code",
   "execution_count": 57,
   "metadata": {
    "collapsed": true
   },
   "outputs": [],
   "source": [
    "df['F'] = s1"
   ]
  },
  {
   "cell_type": "code",
   "execution_count": 62,
   "metadata": {
    "collapsed": false
   },
   "outputs": [
    {
     "data": {
      "text/html": [
       "<div>\n",
       "<table border=\"1\" class=\"dataframe\">\n",
       "  <thead>\n",
       "    <tr style=\"text-align: right;\">\n",
       "      <th></th>\n",
       "      <th>A</th>\n",
       "      <th>B</th>\n",
       "      <th>C</th>\n",
       "      <th>D</th>\n",
       "      <th>F</th>\n",
       "    </tr>\n",
       "  </thead>\n",
       "  <tbody>\n",
       "    <tr>\n",
       "      <th>2013-01-01</th>\n",
       "      <td>0.000000</td>\n",
       "      <td>0.000000</td>\n",
       "      <td>0.228293</td>\n",
       "      <td>-0.541962</td>\n",
       "      <td>NaN</td>\n",
       "    </tr>\n",
       "    <tr>\n",
       "      <th>2013-01-02</th>\n",
       "      <td>-1.611051</td>\n",
       "      <td>1.322007</td>\n",
       "      <td>-1.576251</td>\n",
       "      <td>0.349519</td>\n",
       "      <td>1.0</td>\n",
       "    </tr>\n",
       "    <tr>\n",
       "      <th>2013-01-03</th>\n",
       "      <td>-1.407734</td>\n",
       "      <td>1.224429</td>\n",
       "      <td>1.659252</td>\n",
       "      <td>-0.311625</td>\n",
       "      <td>2.0</td>\n",
       "    </tr>\n",
       "    <tr>\n",
       "      <th>2013-01-04</th>\n",
       "      <td>-0.454860</td>\n",
       "      <td>1.438757</td>\n",
       "      <td>-1.665337</td>\n",
       "      <td>0.170835</td>\n",
       "      <td>3.0</td>\n",
       "    </tr>\n",
       "    <tr>\n",
       "      <th>2013-01-05</th>\n",
       "      <td>-0.479679</td>\n",
       "      <td>0.933941</td>\n",
       "      <td>-0.199075</td>\n",
       "      <td>-2.528199</td>\n",
       "      <td>4.0</td>\n",
       "    </tr>\n",
       "    <tr>\n",
       "      <th>2013-01-06</th>\n",
       "      <td>0.630417</td>\n",
       "      <td>-0.666657</td>\n",
       "      <td>0.731075</td>\n",
       "      <td>0.865674</td>\n",
       "      <td>5.0</td>\n",
       "    </tr>\n",
       "  </tbody>\n",
       "</table>\n",
       "</div>"
      ],
      "text/plain": [
       "                   A         B         C         D    F\n",
       "2013-01-01  0.000000  0.000000  0.228293 -0.541962  NaN\n",
       "2013-01-02 -1.611051  1.322007 -1.576251  0.349519  1.0\n",
       "2013-01-03 -1.407734  1.224429  1.659252 -0.311625  2.0\n",
       "2013-01-04 -0.454860  1.438757 -1.665337  0.170835  3.0\n",
       "2013-01-05 -0.479679  0.933941 -0.199075 -2.528199  4.0\n",
       "2013-01-06  0.630417 -0.666657  0.731075  0.865674  5.0"
      ]
     },
     "execution_count": 62,
     "metadata": {},
     "output_type": "execute_result"
    }
   ],
   "source": [
    "df"
   ]
  },
  {
   "cell_type": "code",
   "execution_count": 59,
   "metadata": {
    "collapsed": true
   },
   "outputs": [],
   "source": [
    "df.loc['2013-01-01', 'A'] = 0"
   ]
  },
  {
   "cell_type": "code",
   "execution_count": 61,
   "metadata": {
    "collapsed": false
   },
   "outputs": [],
   "source": [
    "df.iloc[0, 1] = 0"
   ]
  },
  {
   "cell_type": "code",
   "execution_count": 63,
   "metadata": {
    "collapsed": true
   },
   "outputs": [],
   "source": [
    "df.loc[:, 'D'] = np.array([5]*len(df))"
   ]
  },
  {
   "cell_type": "code",
   "execution_count": 64,
   "metadata": {
    "collapsed": false
   },
   "outputs": [
    {
     "data": {
      "text/html": [
       "<div>\n",
       "<table border=\"1\" class=\"dataframe\">\n",
       "  <thead>\n",
       "    <tr style=\"text-align: right;\">\n",
       "      <th></th>\n",
       "      <th>A</th>\n",
       "      <th>B</th>\n",
       "      <th>C</th>\n",
       "      <th>D</th>\n",
       "      <th>F</th>\n",
       "    </tr>\n",
       "  </thead>\n",
       "  <tbody>\n",
       "    <tr>\n",
       "      <th>2013-01-01</th>\n",
       "      <td>0.000000</td>\n",
       "      <td>0.000000</td>\n",
       "      <td>0.228293</td>\n",
       "      <td>5</td>\n",
       "      <td>NaN</td>\n",
       "    </tr>\n",
       "    <tr>\n",
       "      <th>2013-01-02</th>\n",
       "      <td>-1.611051</td>\n",
       "      <td>1.322007</td>\n",
       "      <td>-1.576251</td>\n",
       "      <td>5</td>\n",
       "      <td>1.0</td>\n",
       "    </tr>\n",
       "    <tr>\n",
       "      <th>2013-01-03</th>\n",
       "      <td>-1.407734</td>\n",
       "      <td>1.224429</td>\n",
       "      <td>1.659252</td>\n",
       "      <td>5</td>\n",
       "      <td>2.0</td>\n",
       "    </tr>\n",
       "    <tr>\n",
       "      <th>2013-01-04</th>\n",
       "      <td>-0.454860</td>\n",
       "      <td>1.438757</td>\n",
       "      <td>-1.665337</td>\n",
       "      <td>5</td>\n",
       "      <td>3.0</td>\n",
       "    </tr>\n",
       "    <tr>\n",
       "      <th>2013-01-05</th>\n",
       "      <td>-0.479679</td>\n",
       "      <td>0.933941</td>\n",
       "      <td>-0.199075</td>\n",
       "      <td>5</td>\n",
       "      <td>4.0</td>\n",
       "    </tr>\n",
       "    <tr>\n",
       "      <th>2013-01-06</th>\n",
       "      <td>0.630417</td>\n",
       "      <td>-0.666657</td>\n",
       "      <td>0.731075</td>\n",
       "      <td>5</td>\n",
       "      <td>5.0</td>\n",
       "    </tr>\n",
       "  </tbody>\n",
       "</table>\n",
       "</div>"
      ],
      "text/plain": [
       "                   A         B         C  D    F\n",
       "2013-01-01  0.000000  0.000000  0.228293  5  NaN\n",
       "2013-01-02 -1.611051  1.322007 -1.576251  5  1.0\n",
       "2013-01-03 -1.407734  1.224429  1.659252  5  2.0\n",
       "2013-01-04 -0.454860  1.438757 -1.665337  5  3.0\n",
       "2013-01-05 -0.479679  0.933941 -0.199075  5  4.0\n",
       "2013-01-06  0.630417 -0.666657  0.731075  5  5.0"
      ]
     },
     "execution_count": 64,
     "metadata": {},
     "output_type": "execute_result"
    }
   ],
   "source": [
    "df"
   ]
  },
  {
   "cell_type": "markdown",
   "metadata": {},
   "source": [
    "# Updating information"
   ]
  },
  {
   "cell_type": "code",
   "execution_count": 65,
   "metadata": {
    "collapsed": false
   },
   "outputs": [
    {
     "data": {
      "text/html": [
       "<div>\n",
       "<table border=\"1\" class=\"dataframe\">\n",
       "  <thead>\n",
       "    <tr style=\"text-align: right;\">\n",
       "      <th></th>\n",
       "      <th>A</th>\n",
       "      <th>B</th>\n",
       "      <th>C</th>\n",
       "      <th>D</th>\n",
       "      <th>F</th>\n",
       "    </tr>\n",
       "  </thead>\n",
       "  <tbody>\n",
       "    <tr>\n",
       "      <th>2013-01-01</th>\n",
       "      <td>0.000000</td>\n",
       "      <td>0.000000</td>\n",
       "      <td>-0.228293</td>\n",
       "      <td>-5</td>\n",
       "      <td>NaN</td>\n",
       "    </tr>\n",
       "    <tr>\n",
       "      <th>2013-01-02</th>\n",
       "      <td>-1.611051</td>\n",
       "      <td>-1.322007</td>\n",
       "      <td>-1.576251</td>\n",
       "      <td>-5</td>\n",
       "      <td>-1.0</td>\n",
       "    </tr>\n",
       "    <tr>\n",
       "      <th>2013-01-03</th>\n",
       "      <td>-1.407734</td>\n",
       "      <td>-1.224429</td>\n",
       "      <td>-1.659252</td>\n",
       "      <td>-5</td>\n",
       "      <td>-2.0</td>\n",
       "    </tr>\n",
       "    <tr>\n",
       "      <th>2013-01-04</th>\n",
       "      <td>-0.454860</td>\n",
       "      <td>-1.438757</td>\n",
       "      <td>-1.665337</td>\n",
       "      <td>-5</td>\n",
       "      <td>-3.0</td>\n",
       "    </tr>\n",
       "    <tr>\n",
       "      <th>2013-01-05</th>\n",
       "      <td>-0.479679</td>\n",
       "      <td>-0.933941</td>\n",
       "      <td>-0.199075</td>\n",
       "      <td>-5</td>\n",
       "      <td>-4.0</td>\n",
       "    </tr>\n",
       "    <tr>\n",
       "      <th>2013-01-06</th>\n",
       "      <td>-0.630417</td>\n",
       "      <td>-0.666657</td>\n",
       "      <td>-0.731075</td>\n",
       "      <td>-5</td>\n",
       "      <td>-5.0</td>\n",
       "    </tr>\n",
       "  </tbody>\n",
       "</table>\n",
       "</div>"
      ],
      "text/plain": [
       "                   A         B         C  D    F\n",
       "2013-01-01  0.000000  0.000000 -0.228293 -5  NaN\n",
       "2013-01-02 -1.611051 -1.322007 -1.576251 -5 -1.0\n",
       "2013-01-03 -1.407734 -1.224429 -1.659252 -5 -2.0\n",
       "2013-01-04 -0.454860 -1.438757 -1.665337 -5 -3.0\n",
       "2013-01-05 -0.479679 -0.933941 -0.199075 -5 -4.0\n",
       "2013-01-06 -0.630417 -0.666657 -0.731075 -5 -5.0"
      ]
     },
     "execution_count": 65,
     "metadata": {},
     "output_type": "execute_result"
    }
   ],
   "source": [
    "df2 = df.copy()\n",
    "df2[df2>0] = -df2\n",
    "df2"
   ]
  },
  {
   "cell_type": "markdown",
   "metadata": {},
   "source": [
    "# Missing Data"
   ]
  },
  {
   "cell_type": "code",
   "execution_count": 67,
   "metadata": {
    "collapsed": false
   },
   "outputs": [
    {
     "data": {
      "text/plain": [
       "DatetimeIndex(['2013-01-01', '2013-01-02', '2013-01-03', '2013-01-04',\n",
       "               '2013-01-05', '2013-01-06'],\n",
       "              dtype='datetime64[ns]', freq='D')"
      ]
     },
     "execution_count": 67,
     "metadata": {},
     "output_type": "execute_result"
    }
   ],
   "source": [
    " df.index"
   ]
  },
  {
   "cell_type": "code",
   "execution_count": 68,
   "metadata": {
    "collapsed": false
   },
   "outputs": [
    {
     "data": {
      "text/html": [
       "<div>\n",
       "<table border=\"1\" class=\"dataframe\">\n",
       "  <thead>\n",
       "    <tr style=\"text-align: right;\">\n",
       "      <th></th>\n",
       "      <th>A</th>\n",
       "      <th>B</th>\n",
       "      <th>C</th>\n",
       "      <th>D</th>\n",
       "      <th>F</th>\n",
       "    </tr>\n",
       "  </thead>\n",
       "  <tbody>\n",
       "    <tr>\n",
       "      <th>2013-01-01</th>\n",
       "      <td>0.000000</td>\n",
       "      <td>0.000000</td>\n",
       "      <td>0.228293</td>\n",
       "      <td>5</td>\n",
       "      <td>NaN</td>\n",
       "    </tr>\n",
       "    <tr>\n",
       "      <th>2013-01-02</th>\n",
       "      <td>-1.611051</td>\n",
       "      <td>1.322007</td>\n",
       "      <td>-1.576251</td>\n",
       "      <td>5</td>\n",
       "      <td>1.0</td>\n",
       "    </tr>\n",
       "    <tr>\n",
       "      <th>2013-01-03</th>\n",
       "      <td>-1.407734</td>\n",
       "      <td>1.224429</td>\n",
       "      <td>1.659252</td>\n",
       "      <td>5</td>\n",
       "      <td>2.0</td>\n",
       "    </tr>\n",
       "    <tr>\n",
       "      <th>2013-01-04</th>\n",
       "      <td>-0.454860</td>\n",
       "      <td>1.438757</td>\n",
       "      <td>-1.665337</td>\n",
       "      <td>5</td>\n",
       "      <td>3.0</td>\n",
       "    </tr>\n",
       "    <tr>\n",
       "      <th>2013-01-05</th>\n",
       "      <td>-0.479679</td>\n",
       "      <td>0.933941</td>\n",
       "      <td>-0.199075</td>\n",
       "      <td>5</td>\n",
       "      <td>4.0</td>\n",
       "    </tr>\n",
       "    <tr>\n",
       "      <th>2013-01-06</th>\n",
       "      <td>0.630417</td>\n",
       "      <td>-0.666657</td>\n",
       "      <td>0.731075</td>\n",
       "      <td>5</td>\n",
       "      <td>5.0</td>\n",
       "    </tr>\n",
       "  </tbody>\n",
       "</table>\n",
       "</div>"
      ],
      "text/plain": [
       "                   A         B         C  D    F\n",
       "2013-01-01  0.000000  0.000000  0.228293  5  NaN\n",
       "2013-01-02 -1.611051  1.322007 -1.576251  5  1.0\n",
       "2013-01-03 -1.407734  1.224429  1.659252  5  2.0\n",
       "2013-01-04 -0.454860  1.438757 -1.665337  5  3.0\n",
       "2013-01-05 -0.479679  0.933941 -0.199075  5  4.0\n",
       "2013-01-06  0.630417 -0.666657  0.731075  5  5.0"
      ]
     },
     "execution_count": 68,
     "metadata": {},
     "output_type": "execute_result"
    }
   ],
   "source": [
    "df"
   ]
  },
  {
   "cell_type": "code",
   "execution_count": 71,
   "metadata": {
    "collapsed": false
   },
   "outputs": [],
   "source": [
    "df1 = df.reindex(index=dates[0:4])"
   ]
  },
  {
   "cell_type": "code",
   "execution_count": 72,
   "metadata": {
    "collapsed": false
   },
   "outputs": [
    {
     "data": {
      "text/html": [
       "<div>\n",
       "<table border=\"1\" class=\"dataframe\">\n",
       "  <thead>\n",
       "    <tr style=\"text-align: right;\">\n",
       "      <th></th>\n",
       "      <th>A</th>\n",
       "      <th>B</th>\n",
       "      <th>C</th>\n",
       "      <th>D</th>\n",
       "      <th>F</th>\n",
       "    </tr>\n",
       "  </thead>\n",
       "  <tbody>\n",
       "    <tr>\n",
       "      <th>2013-01-01</th>\n",
       "      <td>0.000000</td>\n",
       "      <td>0.000000</td>\n",
       "      <td>0.228293</td>\n",
       "      <td>5</td>\n",
       "      <td>NaN</td>\n",
       "    </tr>\n",
       "    <tr>\n",
       "      <th>2013-01-02</th>\n",
       "      <td>-1.611051</td>\n",
       "      <td>1.322007</td>\n",
       "      <td>-1.576251</td>\n",
       "      <td>5</td>\n",
       "      <td>1.0</td>\n",
       "    </tr>\n",
       "    <tr>\n",
       "      <th>2013-01-03</th>\n",
       "      <td>-1.407734</td>\n",
       "      <td>1.224429</td>\n",
       "      <td>1.659252</td>\n",
       "      <td>5</td>\n",
       "      <td>2.0</td>\n",
       "    </tr>\n",
       "    <tr>\n",
       "      <th>2013-01-04</th>\n",
       "      <td>-0.454860</td>\n",
       "      <td>1.438757</td>\n",
       "      <td>-1.665337</td>\n",
       "      <td>5</td>\n",
       "      <td>3.0</td>\n",
       "    </tr>\n",
       "  </tbody>\n",
       "</table>\n",
       "</div>"
      ],
      "text/plain": [
       "                   A         B         C  D    F\n",
       "2013-01-01  0.000000  0.000000  0.228293  5  NaN\n",
       "2013-01-02 -1.611051  1.322007 -1.576251  5  1.0\n",
       "2013-01-03 -1.407734  1.224429  1.659252  5  2.0\n",
       "2013-01-04 -0.454860  1.438757 -1.665337  5  3.0"
      ]
     },
     "execution_count": 72,
     "metadata": {},
     "output_type": "execute_result"
    }
   ],
   "source": [
    "df1"
   ]
  },
  {
   "cell_type": "code",
   "execution_count": 73,
   "metadata": {
    "collapsed": false
   },
   "outputs": [
    {
     "data": {
      "text/plain": [
       "A   -0.553818\n",
       "B    0.708746\n",
       "C   -0.137007\n",
       "D    5.000000\n",
       "F    3.000000\n",
       "dtype: float64"
      ]
     },
     "execution_count": 73,
     "metadata": {},
     "output_type": "execute_result"
    }
   ],
   "source": [
    "df.mean()"
   ]
  },
  {
   "cell_type": "code",
   "execution_count": 74,
   "metadata": {
    "collapsed": false
   },
   "outputs": [
    {
     "data": {
      "text/plain": [
       "2013-01-01    1.307073\n",
       "2013-01-02    0.826941\n",
       "2013-01-03    1.695189\n",
       "2013-01-04    1.463712\n",
       "2013-01-05    1.851037\n",
       "2013-01-06    2.138967\n",
       "Freq: D, dtype: float64"
      ]
     },
     "execution_count": 74,
     "metadata": {},
     "output_type": "execute_result"
    }
   ],
   "source": [
    "df.mean(1)"
   ]
  },
  {
   "cell_type": "code",
   "execution_count": 9,
   "metadata": {
    "collapsed": true
   },
   "outputs": [],
   "source": [
    "s = pd.Series([1, 3, 5, np.nan, 6, 8], index=dates).shift(2)"
   ]
  },
  {
   "cell_type": "code",
   "execution_count": 12,
   "metadata": {
    "collapsed": false
   },
   "outputs": [
    {
     "data": {
      "text/plain": [
       "2013-01-01    NaN\n",
       "2013-01-02    NaN\n",
       "2013-01-03    1.0\n",
       "2013-01-04    3.0\n",
       "2013-01-05    5.0\n",
       "2013-01-06    NaN\n",
       "Freq: D, dtype: float64"
      ]
     },
     "execution_count": 12,
     "metadata": {},
     "output_type": "execute_result"
    }
   ],
   "source": [
    "s"
   ]
  },
  {
   "cell_type": "code",
   "execution_count": 14,
   "metadata": {
    "collapsed": false
   },
   "outputs": [
    {
     "data": {
      "text/plain": [
       "2013-01-01    1.0\n",
       "2013-01-02    3.0\n",
       "2013-01-03    5.0\n",
       "2013-01-04    NaN\n",
       "2013-01-05    NaN\n",
       "2013-01-06    NaN\n",
       "Freq: D, dtype: float64"
      ]
     },
     "execution_count": 14,
     "metadata": {},
     "output_type": "execute_result"
    }
   ],
   "source": [
    "s.shift(-2)"
   ]
  },
  {
   "cell_type": "code",
   "execution_count": 15,
   "metadata": {
    "collapsed": false
   },
   "outputs": [
    {
     "data": {
      "text/html": [
       "<div>\n",
       "<table border=\"1\" class=\"dataframe\">\n",
       "  <thead>\n",
       "    <tr style=\"text-align: right;\">\n",
       "      <th></th>\n",
       "      <th>A</th>\n",
       "      <th>B</th>\n",
       "      <th>C</th>\n",
       "      <th>D</th>\n",
       "    </tr>\n",
       "  </thead>\n",
       "  <tbody>\n",
       "    <tr>\n",
       "      <th>2013-01-01</th>\n",
       "      <td>NaN</td>\n",
       "      <td>NaN</td>\n",
       "      <td>NaN</td>\n",
       "      <td>NaN</td>\n",
       "    </tr>\n",
       "    <tr>\n",
       "      <th>2013-01-02</th>\n",
       "      <td>NaN</td>\n",
       "      <td>NaN</td>\n",
       "      <td>NaN</td>\n",
       "      <td>NaN</td>\n",
       "    </tr>\n",
       "    <tr>\n",
       "      <th>2013-01-03</th>\n",
       "      <td>-1.979832</td>\n",
       "      <td>0.652644</td>\n",
       "      <td>-0.985359</td>\n",
       "      <td>-1.954398</td>\n",
       "    </tr>\n",
       "    <tr>\n",
       "      <th>2013-01-04</th>\n",
       "      <td>-5.072937</td>\n",
       "      <td>-5.454370</td>\n",
       "      <td>-3.215478</td>\n",
       "      <td>-3.316226</td>\n",
       "    </tr>\n",
       "    <tr>\n",
       "      <th>2013-01-05</th>\n",
       "      <td>-4.898211</td>\n",
       "      <td>-5.790883</td>\n",
       "      <td>-5.760610</td>\n",
       "      <td>-5.203215</td>\n",
       "    </tr>\n",
       "    <tr>\n",
       "      <th>2013-01-06</th>\n",
       "      <td>NaN</td>\n",
       "      <td>NaN</td>\n",
       "      <td>NaN</td>\n",
       "      <td>NaN</td>\n",
       "    </tr>\n",
       "  </tbody>\n",
       "</table>\n",
       "</div>"
      ],
      "text/plain": [
       "                   A         B         C         D\n",
       "2013-01-01       NaN       NaN       NaN       NaN\n",
       "2013-01-02       NaN       NaN       NaN       NaN\n",
       "2013-01-03 -1.979832  0.652644 -0.985359 -1.954398\n",
       "2013-01-04 -5.072937 -5.454370 -3.215478 -3.316226\n",
       "2013-01-05 -4.898211 -5.790883 -5.760610 -5.203215\n",
       "2013-01-06       NaN       NaN       NaN       NaN"
      ]
     },
     "execution_count": 15,
     "metadata": {},
     "output_type": "execute_result"
    }
   ],
   "source": [
    "df.sub(s, axis='index')"
   ]
  },
  {
   "cell_type": "code",
   "execution_count": 26,
   "metadata": {
    "collapsed": false
   },
   "outputs": [],
   "source": [
    "df = pd.DataFrame(np.random.randn(10, 4))"
   ]
  },
  {
   "cell_type": "code",
   "execution_count": 33,
   "metadata": {
    "collapsed": false
   },
   "outputs": [
    {
     "data": {
      "text/html": [
       "<div>\n",
       "<table border=\"1\" class=\"dataframe\">\n",
       "  <thead>\n",
       "    <tr style=\"text-align: right;\">\n",
       "      <th></th>\n",
       "      <th>0</th>\n",
       "      <th>1</th>\n",
       "      <th>2</th>\n",
       "      <th>3</th>\n",
       "    </tr>\n",
       "  </thead>\n",
       "  <tbody>\n",
       "    <tr>\n",
       "      <th>0</th>\n",
       "      <td>0.258437</td>\n",
       "      <td>1.155720</td>\n",
       "      <td>-0.558907</td>\n",
       "      <td>1.750510</td>\n",
       "    </tr>\n",
       "    <tr>\n",
       "      <th>1</th>\n",
       "      <td>-0.662515</td>\n",
       "      <td>-0.195264</td>\n",
       "      <td>0.652840</td>\n",
       "      <td>0.342059</td>\n",
       "    </tr>\n",
       "    <tr>\n",
       "      <th>2</th>\n",
       "      <td>-1.025178</td>\n",
       "      <td>0.543372</td>\n",
       "      <td>-1.540335</td>\n",
       "      <td>-2.545723</td>\n",
       "    </tr>\n",
       "    <tr>\n",
       "      <th>3</th>\n",
       "      <td>-0.685905</td>\n",
       "      <td>1.034882</td>\n",
       "      <td>-1.057065</td>\n",
       "      <td>0.695248</td>\n",
       "    </tr>\n",
       "    <tr>\n",
       "      <th>4</th>\n",
       "      <td>-0.698960</td>\n",
       "      <td>2.228282</td>\n",
       "      <td>-0.184807</td>\n",
       "      <td>-0.616317</td>\n",
       "    </tr>\n",
       "    <tr>\n",
       "      <th>5</th>\n",
       "      <td>0.439880</td>\n",
       "      <td>-1.357218</td>\n",
       "      <td>0.294804</td>\n",
       "      <td>0.924676</td>\n",
       "    </tr>\n",
       "    <tr>\n",
       "      <th>6</th>\n",
       "      <td>-2.128873</td>\n",
       "      <td>-0.757416</td>\n",
       "      <td>0.501045</td>\n",
       "      <td>0.923143</td>\n",
       "    </tr>\n",
       "    <tr>\n",
       "      <th>7</th>\n",
       "      <td>1.077277</td>\n",
       "      <td>-0.141736</td>\n",
       "      <td>-1.455280</td>\n",
       "      <td>0.815877</td>\n",
       "    </tr>\n",
       "    <tr>\n",
       "      <th>8</th>\n",
       "      <td>1.494135</td>\n",
       "      <td>-1.145558</td>\n",
       "      <td>0.318502</td>\n",
       "      <td>-1.790943</td>\n",
       "    </tr>\n",
       "    <tr>\n",
       "      <th>9</th>\n",
       "      <td>-1.087644</td>\n",
       "      <td>-0.091127</td>\n",
       "      <td>0.503085</td>\n",
       "      <td>-0.539805</td>\n",
       "    </tr>\n",
       "  </tbody>\n",
       "</table>\n",
       "</div>"
      ],
      "text/plain": [
       "          0         1         2         3\n",
       "0  0.258437  1.155720 -0.558907  1.750510\n",
       "1 -0.662515 -0.195264  0.652840  0.342059\n",
       "2 -1.025178  0.543372 -1.540335 -2.545723\n",
       "3 -0.685905  1.034882 -1.057065  0.695248\n",
       "4 -0.698960  2.228282 -0.184807 -0.616317\n",
       "5  0.439880 -1.357218  0.294804  0.924676\n",
       "6 -2.128873 -0.757416  0.501045  0.923143\n",
       "7  1.077277 -0.141736 -1.455280  0.815877\n",
       "8  1.494135 -1.145558  0.318502 -1.790943\n",
       "9 -1.087644 -0.091127  0.503085 -0.539805"
      ]
     },
     "execution_count": 33,
     "metadata": {},
     "output_type": "execute_result"
    }
   ],
   "source": [
    "df"
   ]
  },
  {
   "cell_type": "code",
   "execution_count": 36,
   "metadata": {
    "collapsed": false
   },
   "outputs": [
    {
     "data": {
      "text/plain": [
       "[          0         1         2         3\n",
       " 0  0.258437  1.155720 -0.558907  1.750510\n",
       " 1 -0.662515 -0.195264  0.652840  0.342059\n",
       " 2 -1.025178  0.543372 -1.540335 -2.545723,\n",
       "           0         1         2         3\n",
       " 3 -0.685905  1.034882 -1.057065  0.695248\n",
       " 4 -0.698960  2.228282 -0.184807 -0.616317\n",
       " 5  0.439880 -1.357218  0.294804  0.924676\n",
       " 6 -2.128873 -0.757416  0.501045  0.923143,\n",
       "           0         1         2         3\n",
       " 7  1.077277 -0.141736 -1.455280  0.815877\n",
       " 8  1.494135 -1.145558  0.318502 -1.790943\n",
       " 9 -1.087644 -0.091127  0.503085 -0.539805]"
      ]
     },
     "execution_count": 36,
     "metadata": {},
     "output_type": "execute_result"
    }
   ],
   "source": [
    "pieces = [ df[:3], df[3:7], df[7:] ]\n",
    "pieces"
   ]
  },
  {
   "cell_type": "code",
   "execution_count": 37,
   "metadata": {
    "collapsed": false
   },
   "outputs": [
    {
     "data": {
      "text/html": [
       "<div>\n",
       "<table border=\"1\" class=\"dataframe\">\n",
       "  <thead>\n",
       "    <tr style=\"text-align: right;\">\n",
       "      <th></th>\n",
       "      <th>0</th>\n",
       "      <th>1</th>\n",
       "      <th>2</th>\n",
       "      <th>3</th>\n",
       "    </tr>\n",
       "  </thead>\n",
       "  <tbody>\n",
       "    <tr>\n",
       "      <th>0</th>\n",
       "      <td>0.258437</td>\n",
       "      <td>1.155720</td>\n",
       "      <td>-0.558907</td>\n",
       "      <td>1.750510</td>\n",
       "    </tr>\n",
       "    <tr>\n",
       "      <th>1</th>\n",
       "      <td>-0.662515</td>\n",
       "      <td>-0.195264</td>\n",
       "      <td>0.652840</td>\n",
       "      <td>0.342059</td>\n",
       "    </tr>\n",
       "    <tr>\n",
       "      <th>2</th>\n",
       "      <td>-1.025178</td>\n",
       "      <td>0.543372</td>\n",
       "      <td>-1.540335</td>\n",
       "      <td>-2.545723</td>\n",
       "    </tr>\n",
       "    <tr>\n",
       "      <th>3</th>\n",
       "      <td>-0.685905</td>\n",
       "      <td>1.034882</td>\n",
       "      <td>-1.057065</td>\n",
       "      <td>0.695248</td>\n",
       "    </tr>\n",
       "    <tr>\n",
       "      <th>4</th>\n",
       "      <td>-0.698960</td>\n",
       "      <td>2.228282</td>\n",
       "      <td>-0.184807</td>\n",
       "      <td>-0.616317</td>\n",
       "    </tr>\n",
       "    <tr>\n",
       "      <th>5</th>\n",
       "      <td>0.439880</td>\n",
       "      <td>-1.357218</td>\n",
       "      <td>0.294804</td>\n",
       "      <td>0.924676</td>\n",
       "    </tr>\n",
       "    <tr>\n",
       "      <th>6</th>\n",
       "      <td>-2.128873</td>\n",
       "      <td>-0.757416</td>\n",
       "      <td>0.501045</td>\n",
       "      <td>0.923143</td>\n",
       "    </tr>\n",
       "    <tr>\n",
       "      <th>7</th>\n",
       "      <td>1.077277</td>\n",
       "      <td>-0.141736</td>\n",
       "      <td>-1.455280</td>\n",
       "      <td>0.815877</td>\n",
       "    </tr>\n",
       "    <tr>\n",
       "      <th>8</th>\n",
       "      <td>1.494135</td>\n",
       "      <td>-1.145558</td>\n",
       "      <td>0.318502</td>\n",
       "      <td>-1.790943</td>\n",
       "    </tr>\n",
       "    <tr>\n",
       "      <th>9</th>\n",
       "      <td>-1.087644</td>\n",
       "      <td>-0.091127</td>\n",
       "      <td>0.503085</td>\n",
       "      <td>-0.539805</td>\n",
       "    </tr>\n",
       "  </tbody>\n",
       "</table>\n",
       "</div>"
      ],
      "text/plain": [
       "          0         1         2         3\n",
       "0  0.258437  1.155720 -0.558907  1.750510\n",
       "1 -0.662515 -0.195264  0.652840  0.342059\n",
       "2 -1.025178  0.543372 -1.540335 -2.545723\n",
       "3 -0.685905  1.034882 -1.057065  0.695248\n",
       "4 -0.698960  2.228282 -0.184807 -0.616317\n",
       "5  0.439880 -1.357218  0.294804  0.924676\n",
       "6 -2.128873 -0.757416  0.501045  0.923143\n",
       "7  1.077277 -0.141736 -1.455280  0.815877\n",
       "8  1.494135 -1.145558  0.318502 -1.790943\n",
       "9 -1.087644 -0.091127  0.503085 -0.539805"
      ]
     },
     "execution_count": 37,
     "metadata": {},
     "output_type": "execute_result"
    }
   ],
   "source": [
    "pd.concat(pieces)"
   ]
  },
  {
   "cell_type": "code",
   "execution_count": 38,
   "metadata": {
    "collapsed": true
   },
   "outputs": [],
   "source": [
    "df2 = np.random.randn(10, 2)"
   ]
  },
  {
   "cell_type": "code",
   "execution_count": 49,
   "metadata": {
    "collapsed": false
   },
   "outputs": [
    {
     "data": {
      "text/plain": [
       "array([-0.62314202, -0.65809373,  0.05488766, -1.07840808,  0.04034992,\n",
       "        1.85952894, -2.78192385,  0.9687855 , -0.06743717, -0.0057572 ])"
      ]
     },
     "execution_count": 49,
     "metadata": {},
     "output_type": "execute_result"
    }
   ],
   "source": [
    "df2[:,0]"
   ]
  },
  {
   "cell_type": "code",
   "execution_count": 51,
   "metadata": {
    "collapsed": false
   },
   "outputs": [],
   "source": [
    "s=pd.Series(df2[:,0])"
   ]
  },
  {
   "cell_type": "code",
   "execution_count": 54,
   "metadata": {
    "collapsed": false
   },
   "outputs": [],
   "source": [
    "df[4] = s"
   ]
  },
  {
   "cell_type": "code",
   "execution_count": 55,
   "metadata": {
    "collapsed": false
   },
   "outputs": [
    {
     "data": {
      "text/html": [
       "<div>\n",
       "<table border=\"1\" class=\"dataframe\">\n",
       "  <thead>\n",
       "    <tr style=\"text-align: right;\">\n",
       "      <th></th>\n",
       "      <th>0</th>\n",
       "      <th>1</th>\n",
       "      <th>2</th>\n",
       "      <th>3</th>\n",
       "      <th>4</th>\n",
       "    </tr>\n",
       "  </thead>\n",
       "  <tbody>\n",
       "    <tr>\n",
       "      <th>0</th>\n",
       "      <td>0.258437</td>\n",
       "      <td>1.155720</td>\n",
       "      <td>-0.558907</td>\n",
       "      <td>1.750510</td>\n",
       "      <td>-0.623142</td>\n",
       "    </tr>\n",
       "    <tr>\n",
       "      <th>1</th>\n",
       "      <td>-0.662515</td>\n",
       "      <td>-0.195264</td>\n",
       "      <td>0.652840</td>\n",
       "      <td>0.342059</td>\n",
       "      <td>-0.658094</td>\n",
       "    </tr>\n",
       "    <tr>\n",
       "      <th>2</th>\n",
       "      <td>-1.025178</td>\n",
       "      <td>0.543372</td>\n",
       "      <td>-1.540335</td>\n",
       "      <td>-2.545723</td>\n",
       "      <td>0.054888</td>\n",
       "    </tr>\n",
       "    <tr>\n",
       "      <th>3</th>\n",
       "      <td>-0.685905</td>\n",
       "      <td>1.034882</td>\n",
       "      <td>-1.057065</td>\n",
       "      <td>0.695248</td>\n",
       "      <td>-1.078408</td>\n",
       "    </tr>\n",
       "    <tr>\n",
       "      <th>4</th>\n",
       "      <td>-0.698960</td>\n",
       "      <td>2.228282</td>\n",
       "      <td>-0.184807</td>\n",
       "      <td>-0.616317</td>\n",
       "      <td>0.040350</td>\n",
       "    </tr>\n",
       "    <tr>\n",
       "      <th>5</th>\n",
       "      <td>0.439880</td>\n",
       "      <td>-1.357218</td>\n",
       "      <td>0.294804</td>\n",
       "      <td>0.924676</td>\n",
       "      <td>1.859529</td>\n",
       "    </tr>\n",
       "    <tr>\n",
       "      <th>6</th>\n",
       "      <td>-2.128873</td>\n",
       "      <td>-0.757416</td>\n",
       "      <td>0.501045</td>\n",
       "      <td>0.923143</td>\n",
       "      <td>-2.781924</td>\n",
       "    </tr>\n",
       "    <tr>\n",
       "      <th>7</th>\n",
       "      <td>1.077277</td>\n",
       "      <td>-0.141736</td>\n",
       "      <td>-1.455280</td>\n",
       "      <td>0.815877</td>\n",
       "      <td>0.968785</td>\n",
       "    </tr>\n",
       "    <tr>\n",
       "      <th>8</th>\n",
       "      <td>1.494135</td>\n",
       "      <td>-1.145558</td>\n",
       "      <td>0.318502</td>\n",
       "      <td>-1.790943</td>\n",
       "      <td>-0.067437</td>\n",
       "    </tr>\n",
       "    <tr>\n",
       "      <th>9</th>\n",
       "      <td>-1.087644</td>\n",
       "      <td>-0.091127</td>\n",
       "      <td>0.503085</td>\n",
       "      <td>-0.539805</td>\n",
       "      <td>-0.005757</td>\n",
       "    </tr>\n",
       "  </tbody>\n",
       "</table>\n",
       "</div>"
      ],
      "text/plain": [
       "          0         1         2         3         4\n",
       "0  0.258437  1.155720 -0.558907  1.750510 -0.623142\n",
       "1 -0.662515 -0.195264  0.652840  0.342059 -0.658094\n",
       "2 -1.025178  0.543372 -1.540335 -2.545723  0.054888\n",
       "3 -0.685905  1.034882 -1.057065  0.695248 -1.078408\n",
       "4 -0.698960  2.228282 -0.184807 -0.616317  0.040350\n",
       "5  0.439880 -1.357218  0.294804  0.924676  1.859529\n",
       "6 -2.128873 -0.757416  0.501045  0.923143 -2.781924\n",
       "7  1.077277 -0.141736 -1.455280  0.815877  0.968785\n",
       "8  1.494135 -1.145558  0.318502 -1.790943 -0.067437\n",
       "9 -1.087644 -0.091127  0.503085 -0.539805 -0.005757"
      ]
     },
     "execution_count": 55,
     "metadata": {},
     "output_type": "execute_result"
    }
   ],
   "source": [
    "df"
   ]
  },
  {
   "cell_type": "code",
   "execution_count": 57,
   "metadata": {
    "collapsed": false
   },
   "outputs": [],
   "source": [
    "left = pd.DataFrame({'key':['foo', 'foo'], 'lval':[1, 2]})\n",
    "right = pd.DataFrame({'key':['foo', 'foo'], 'rval':[4, 5]})"
   ]
  },
  {
   "cell_type": "code",
   "execution_count": 59,
   "metadata": {
    "collapsed": false
   },
   "outputs": [
    {
     "data": {
      "text/html": [
       "<div>\n",
       "<table border=\"1\" class=\"dataframe\">\n",
       "  <thead>\n",
       "    <tr style=\"text-align: right;\">\n",
       "      <th></th>\n",
       "      <th>key</th>\n",
       "      <th>lval</th>\n",
       "    </tr>\n",
       "  </thead>\n",
       "  <tbody>\n",
       "    <tr>\n",
       "      <th>0</th>\n",
       "      <td>foo</td>\n",
       "      <td>1</td>\n",
       "    </tr>\n",
       "    <tr>\n",
       "      <th>1</th>\n",
       "      <td>foo</td>\n",
       "      <td>2</td>\n",
       "    </tr>\n",
       "  </tbody>\n",
       "</table>\n",
       "</div>"
      ],
      "text/plain": [
       "   key  lval\n",
       "0  foo     1\n",
       "1  foo     2"
      ]
     },
     "execution_count": 59,
     "metadata": {},
     "output_type": "execute_result"
    }
   ],
   "source": [
    "left"
   ]
  },
  {
   "cell_type": "code",
   "execution_count": 60,
   "metadata": {
    "collapsed": false
   },
   "outputs": [
    {
     "data": {
      "text/html": [
       "<div>\n",
       "<table border=\"1\" class=\"dataframe\">\n",
       "  <thead>\n",
       "    <tr style=\"text-align: right;\">\n",
       "      <th></th>\n",
       "      <th>key</th>\n",
       "      <th>rval</th>\n",
       "    </tr>\n",
       "  </thead>\n",
       "  <tbody>\n",
       "    <tr>\n",
       "      <th>0</th>\n",
       "      <td>foo</td>\n",
       "      <td>4</td>\n",
       "    </tr>\n",
       "    <tr>\n",
       "      <th>1</th>\n",
       "      <td>foo</td>\n",
       "      <td>5</td>\n",
       "    </tr>\n",
       "  </tbody>\n",
       "</table>\n",
       "</div>"
      ],
      "text/plain": [
       "   key  rval\n",
       "0  foo     4\n",
       "1  foo     5"
      ]
     },
     "execution_count": 60,
     "metadata": {},
     "output_type": "execute_result"
    }
   ],
   "source": [
    "right"
   ]
  },
  {
   "cell_type": "code",
   "execution_count": 61,
   "metadata": {
    "collapsed": false
   },
   "outputs": [
    {
     "data": {
      "text/html": [
       "<div>\n",
       "<table border=\"1\" class=\"dataframe\">\n",
       "  <thead>\n",
       "    <tr style=\"text-align: right;\">\n",
       "      <th></th>\n",
       "      <th>key</th>\n",
       "      <th>lval</th>\n",
       "      <th>rval</th>\n",
       "    </tr>\n",
       "  </thead>\n",
       "  <tbody>\n",
       "    <tr>\n",
       "      <th>0</th>\n",
       "      <td>foo</td>\n",
       "      <td>1</td>\n",
       "      <td>4</td>\n",
       "    </tr>\n",
       "    <tr>\n",
       "      <th>1</th>\n",
       "      <td>foo</td>\n",
       "      <td>1</td>\n",
       "      <td>5</td>\n",
       "    </tr>\n",
       "    <tr>\n",
       "      <th>2</th>\n",
       "      <td>foo</td>\n",
       "      <td>2</td>\n",
       "      <td>4</td>\n",
       "    </tr>\n",
       "    <tr>\n",
       "      <th>3</th>\n",
       "      <td>foo</td>\n",
       "      <td>2</td>\n",
       "      <td>5</td>\n",
       "    </tr>\n",
       "  </tbody>\n",
       "</table>\n",
       "</div>"
      ],
      "text/plain": [
       "   key  lval  rval\n",
       "0  foo     1     4\n",
       "1  foo     1     5\n",
       "2  foo     2     4\n",
       "3  foo     2     5"
      ]
     },
     "execution_count": 61,
     "metadata": {},
     "output_type": "execute_result"
    }
   ],
   "source": [
    "pd.merge(left, right, on='key')"
   ]
  },
  {
   "cell_type": "code",
   "execution_count": 62,
   "metadata": {
    "collapsed": true
   },
   "outputs": [],
   "source": [
    "df = pd.DataFrame(np.random.randn(8, 4), columns=['A', 'B', 'C', 'D'])"
   ]
  },
  {
   "cell_type": "code",
   "execution_count": 63,
   "metadata": {
    "collapsed": false
   },
   "outputs": [
    {
     "data": {
      "text/html": [
       "<div>\n",
       "<table border=\"1\" class=\"dataframe\">\n",
       "  <thead>\n",
       "    <tr style=\"text-align: right;\">\n",
       "      <th></th>\n",
       "      <th>A</th>\n",
       "      <th>B</th>\n",
       "      <th>C</th>\n",
       "      <th>D</th>\n",
       "    </tr>\n",
       "  </thead>\n",
       "  <tbody>\n",
       "    <tr>\n",
       "      <th>0</th>\n",
       "      <td>0.960369</td>\n",
       "      <td>-1.203360</td>\n",
       "      <td>0.198189</td>\n",
       "      <td>0.391177</td>\n",
       "    </tr>\n",
       "    <tr>\n",
       "      <th>1</th>\n",
       "      <td>-1.176671</td>\n",
       "      <td>0.441948</td>\n",
       "      <td>1.976041</td>\n",
       "      <td>0.148867</td>\n",
       "    </tr>\n",
       "    <tr>\n",
       "      <th>2</th>\n",
       "      <td>0.757860</td>\n",
       "      <td>0.369854</td>\n",
       "      <td>-0.937257</td>\n",
       "      <td>1.131513</td>\n",
       "    </tr>\n",
       "    <tr>\n",
       "      <th>3</th>\n",
       "      <td>0.197132</td>\n",
       "      <td>0.670236</td>\n",
       "      <td>-0.405738</td>\n",
       "      <td>-0.069547</td>\n",
       "    </tr>\n",
       "    <tr>\n",
       "      <th>4</th>\n",
       "      <td>-1.323555</td>\n",
       "      <td>1.468314</td>\n",
       "      <td>-1.822549</td>\n",
       "      <td>-0.140398</td>\n",
       "    </tr>\n",
       "    <tr>\n",
       "      <th>5</th>\n",
       "      <td>0.866030</td>\n",
       "      <td>-0.866627</td>\n",
       "      <td>-0.577243</td>\n",
       "      <td>-0.656285</td>\n",
       "    </tr>\n",
       "    <tr>\n",
       "      <th>6</th>\n",
       "      <td>0.818877</td>\n",
       "      <td>1.574479</td>\n",
       "      <td>0.505184</td>\n",
       "      <td>1.337730</td>\n",
       "    </tr>\n",
       "    <tr>\n",
       "      <th>7</th>\n",
       "      <td>-0.863539</td>\n",
       "      <td>0.752019</td>\n",
       "      <td>1.451515</td>\n",
       "      <td>0.756751</td>\n",
       "    </tr>\n",
       "  </tbody>\n",
       "</table>\n",
       "</div>"
      ],
      "text/plain": [
       "          A         B         C         D\n",
       "0  0.960369 -1.203360  0.198189  0.391177\n",
       "1 -1.176671  0.441948  1.976041  0.148867\n",
       "2  0.757860  0.369854 -0.937257  1.131513\n",
       "3  0.197132  0.670236 -0.405738 -0.069547\n",
       "4 -1.323555  1.468314 -1.822549 -0.140398\n",
       "5  0.866030 -0.866627 -0.577243 -0.656285\n",
       "6  0.818877  1.574479  0.505184  1.337730\n",
       "7 -0.863539  0.752019  1.451515  0.756751"
      ]
     },
     "execution_count": 63,
     "metadata": {},
     "output_type": "execute_result"
    }
   ],
   "source": [
    "df"
   ]
  },
  {
   "cell_type": "code",
   "execution_count": 65,
   "metadata": {
    "collapsed": false
   },
   "outputs": [
    {
     "data": {
      "text/plain": [
       "A    0.197132\n",
       "B    0.670236\n",
       "C   -0.405738\n",
       "D   -0.069547\n",
       "Name: 3, dtype: float64"
      ]
     },
     "execution_count": 65,
     "metadata": {},
     "output_type": "execute_result"
    }
   ],
   "source": [
    "s = df.iloc[3]\n",
    "s"
   ]
  },
  {
   "cell_type": "code",
   "execution_count": 67,
   "metadata": {
    "collapsed": false
   },
   "outputs": [
    {
     "data": {
      "text/html": [
       "<div>\n",
       "<table border=\"1\" class=\"dataframe\">\n",
       "  <thead>\n",
       "    <tr style=\"text-align: right;\">\n",
       "      <th></th>\n",
       "      <th>A</th>\n",
       "      <th>B</th>\n",
       "      <th>C</th>\n",
       "      <th>D</th>\n",
       "    </tr>\n",
       "  </thead>\n",
       "  <tbody>\n",
       "    <tr>\n",
       "      <th>0</th>\n",
       "      <td>0.960369</td>\n",
       "      <td>-1.203360</td>\n",
       "      <td>0.198189</td>\n",
       "      <td>0.391177</td>\n",
       "    </tr>\n",
       "    <tr>\n",
       "      <th>1</th>\n",
       "      <td>-1.176671</td>\n",
       "      <td>0.441948</td>\n",
       "      <td>1.976041</td>\n",
       "      <td>0.148867</td>\n",
       "    </tr>\n",
       "    <tr>\n",
       "      <th>2</th>\n",
       "      <td>0.757860</td>\n",
       "      <td>0.369854</td>\n",
       "      <td>-0.937257</td>\n",
       "      <td>1.131513</td>\n",
       "    </tr>\n",
       "    <tr>\n",
       "      <th>3</th>\n",
       "      <td>0.197132</td>\n",
       "      <td>0.670236</td>\n",
       "      <td>-0.405738</td>\n",
       "      <td>-0.069547</td>\n",
       "    </tr>\n",
       "    <tr>\n",
       "      <th>4</th>\n",
       "      <td>-1.323555</td>\n",
       "      <td>1.468314</td>\n",
       "      <td>-1.822549</td>\n",
       "      <td>-0.140398</td>\n",
       "    </tr>\n",
       "    <tr>\n",
       "      <th>5</th>\n",
       "      <td>0.866030</td>\n",
       "      <td>-0.866627</td>\n",
       "      <td>-0.577243</td>\n",
       "      <td>-0.656285</td>\n",
       "    </tr>\n",
       "    <tr>\n",
       "      <th>6</th>\n",
       "      <td>0.818877</td>\n",
       "      <td>1.574479</td>\n",
       "      <td>0.505184</td>\n",
       "      <td>1.337730</td>\n",
       "    </tr>\n",
       "    <tr>\n",
       "      <th>7</th>\n",
       "      <td>-0.863539</td>\n",
       "      <td>0.752019</td>\n",
       "      <td>1.451515</td>\n",
       "      <td>0.756751</td>\n",
       "    </tr>\n",
       "    <tr>\n",
       "      <th>8</th>\n",
       "      <td>0.197132</td>\n",
       "      <td>0.670236</td>\n",
       "      <td>-0.405738</td>\n",
       "      <td>-0.069547</td>\n",
       "    </tr>\n",
       "  </tbody>\n",
       "</table>\n",
       "</div>"
      ],
      "text/plain": [
       "          A         B         C         D\n",
       "0  0.960369 -1.203360  0.198189  0.391177\n",
       "1 -1.176671  0.441948  1.976041  0.148867\n",
       "2  0.757860  0.369854 -0.937257  1.131513\n",
       "3  0.197132  0.670236 -0.405738 -0.069547\n",
       "4 -1.323555  1.468314 -1.822549 -0.140398\n",
       "5  0.866030 -0.866627 -0.577243 -0.656285\n",
       "6  0.818877  1.574479  0.505184  1.337730\n",
       "7 -0.863539  0.752019  1.451515  0.756751\n",
       "8  0.197132  0.670236 -0.405738 -0.069547"
      ]
     },
     "execution_count": 67,
     "metadata": {},
     "output_type": "execute_result"
    }
   ],
   "source": [
    "df.append(s, ignore_index=True)"
   ]
  },
  {
   "cell_type": "code",
   "execution_count": 68,
   "metadata": {
    "collapsed": false
   },
   "outputs": [
    {
     "data": {
      "text/html": [
       "<div>\n",
       "<table border=\"1\" class=\"dataframe\">\n",
       "  <thead>\n",
       "    <tr style=\"text-align: right;\">\n",
       "      <th></th>\n",
       "      <th>A</th>\n",
       "      <th>B</th>\n",
       "      <th>C</th>\n",
       "      <th>D</th>\n",
       "    </tr>\n",
       "  </thead>\n",
       "  <tbody>\n",
       "    <tr>\n",
       "      <th>0</th>\n",
       "      <td>foo</td>\n",
       "      <td>one</td>\n",
       "      <td>-0.429937</td>\n",
       "      <td>-0.455789</td>\n",
       "    </tr>\n",
       "    <tr>\n",
       "      <th>1</th>\n",
       "      <td>bar</td>\n",
       "      <td>one</td>\n",
       "      <td>-0.468227</td>\n",
       "      <td>-0.430552</td>\n",
       "    </tr>\n",
       "    <tr>\n",
       "      <th>2</th>\n",
       "      <td>foo</td>\n",
       "      <td>two</td>\n",
       "      <td>0.595110</td>\n",
       "      <td>0.162339</td>\n",
       "    </tr>\n",
       "    <tr>\n",
       "      <th>3</th>\n",
       "      <td>bar</td>\n",
       "      <td>three</td>\n",
       "      <td>-0.749963</td>\n",
       "      <td>-2.449236</td>\n",
       "    </tr>\n",
       "    <tr>\n",
       "      <th>4</th>\n",
       "      <td>foo</td>\n",
       "      <td>two</td>\n",
       "      <td>-1.699342</td>\n",
       "      <td>2.112028</td>\n",
       "    </tr>\n",
       "    <tr>\n",
       "      <th>5</th>\n",
       "      <td>bar</td>\n",
       "      <td>two</td>\n",
       "      <td>0.669026</td>\n",
       "      <td>1.787513</td>\n",
       "    </tr>\n",
       "    <tr>\n",
       "      <th>6</th>\n",
       "      <td>foo</td>\n",
       "      <td>one</td>\n",
       "      <td>0.004243</td>\n",
       "      <td>0.975340</td>\n",
       "    </tr>\n",
       "    <tr>\n",
       "      <th>7</th>\n",
       "      <td>foo</td>\n",
       "      <td>three</td>\n",
       "      <td>1.839541</td>\n",
       "      <td>0.535535</td>\n",
       "    </tr>\n",
       "  </tbody>\n",
       "</table>\n",
       "</div>"
      ],
      "text/plain": [
       "     A      B         C         D\n",
       "0  foo    one -0.429937 -0.455789\n",
       "1  bar    one -0.468227 -0.430552\n",
       "2  foo    two  0.595110  0.162339\n",
       "3  bar  three -0.749963 -2.449236\n",
       "4  foo    two -1.699342  2.112028\n",
       "5  bar    two  0.669026  1.787513\n",
       "6  foo    one  0.004243  0.975340\n",
       "7  foo  three  1.839541  0.535535"
      ]
     },
     "execution_count": 68,
     "metadata": {},
     "output_type": "execute_result"
    }
   ],
   "source": [
    "df = pd.DataFrame({\n",
    "        'A': ['foo', 'bar', 'foo', 'bar',\n",
    "              'foo', 'bar', 'foo', 'foo'],\n",
    "        'B': ['one', 'one', 'two', 'three',\n",
    "              'two', 'two', 'one', 'three'],\n",
    "        'C': np.random.randn(8),\n",
    "        'D': np.random.randn(8)\n",
    "    })\n",
    "df"
   ]
  },
  {
   "cell_type": "code",
   "execution_count": 71,
   "metadata": {
    "collapsed": false
   },
   "outputs": [
    {
     "data": {
      "text/html": [
       "<div>\n",
       "<table border=\"1\" class=\"dataframe\">\n",
       "  <thead>\n",
       "    <tr style=\"text-align: right;\">\n",
       "      <th></th>\n",
       "      <th>C</th>\n",
       "      <th>D</th>\n",
       "    </tr>\n",
       "    <tr>\n",
       "      <th>A</th>\n",
       "      <th></th>\n",
       "      <th></th>\n",
       "    </tr>\n",
       "  </thead>\n",
       "  <tbody>\n",
       "    <tr>\n",
       "      <th>bar</th>\n",
       "      <td>-0.549164</td>\n",
       "      <td>-1.092275</td>\n",
       "    </tr>\n",
       "    <tr>\n",
       "      <th>foo</th>\n",
       "      <td>0.309615</td>\n",
       "      <td>3.329454</td>\n",
       "    </tr>\n",
       "  </tbody>\n",
       "</table>\n",
       "</div>"
      ],
      "text/plain": [
       "            C         D\n",
       "A                      \n",
       "bar -0.549164 -1.092275\n",
       "foo  0.309615  3.329454"
      ]
     },
     "execution_count": 71,
     "metadata": {},
     "output_type": "execute_result"
    }
   ],
   "source": [
    "df.groupby('A').sum()"
   ]
  },
  {
   "cell_type": "code",
   "execution_count": 72,
   "metadata": {
    "collapsed": false
   },
   "outputs": [
    {
     "data": {
      "text/html": [
       "<div>\n",
       "<table border=\"1\" class=\"dataframe\">\n",
       "  <thead>\n",
       "    <tr style=\"text-align: right;\">\n",
       "      <th></th>\n",
       "      <th></th>\n",
       "      <th>C</th>\n",
       "      <th>D</th>\n",
       "    </tr>\n",
       "    <tr>\n",
       "      <th>A</th>\n",
       "      <th>B</th>\n",
       "      <th></th>\n",
       "      <th></th>\n",
       "    </tr>\n",
       "  </thead>\n",
       "  <tbody>\n",
       "    <tr>\n",
       "      <th rowspan=\"3\" valign=\"top\">bar</th>\n",
       "      <th>one</th>\n",
       "      <td>-0.468227</td>\n",
       "      <td>-0.430552</td>\n",
       "    </tr>\n",
       "    <tr>\n",
       "      <th>three</th>\n",
       "      <td>-0.749963</td>\n",
       "      <td>-2.449236</td>\n",
       "    </tr>\n",
       "    <tr>\n",
       "      <th>two</th>\n",
       "      <td>0.669026</td>\n",
       "      <td>1.787513</td>\n",
       "    </tr>\n",
       "    <tr>\n",
       "      <th rowspan=\"3\" valign=\"top\">foo</th>\n",
       "      <th>one</th>\n",
       "      <td>-0.425695</td>\n",
       "      <td>0.519551</td>\n",
       "    </tr>\n",
       "    <tr>\n",
       "      <th>three</th>\n",
       "      <td>1.839541</td>\n",
       "      <td>0.535535</td>\n",
       "    </tr>\n",
       "    <tr>\n",
       "      <th>two</th>\n",
       "      <td>-1.104231</td>\n",
       "      <td>2.274367</td>\n",
       "    </tr>\n",
       "  </tbody>\n",
       "</table>\n",
       "</div>"
      ],
      "text/plain": [
       "                  C         D\n",
       "A   B                        \n",
       "bar one   -0.468227 -0.430552\n",
       "    three -0.749963 -2.449236\n",
       "    two    0.669026  1.787513\n",
       "foo one   -0.425695  0.519551\n",
       "    three  1.839541  0.535535\n",
       "    two   -1.104231  2.274367"
      ]
     },
     "execution_count": 72,
     "metadata": {},
     "output_type": "execute_result"
    }
   ],
   "source": [
    "df.groupby(['A', 'B']).sum()"
   ]
  },
  {
   "cell_type": "code",
   "execution_count": 73,
   "metadata": {
    "collapsed": false
   },
   "outputs": [
    {
     "data": {
      "text/plain": [
       "[('bar', 'one'),\n",
       " ('bar', 'two'),\n",
       " ('baz', 'one'),\n",
       " ('baz', 'two'),\n",
       " ('foo', 'one'),\n",
       " ('foo', 'two'),\n",
       " ('qux', 'one'),\n",
       " ('qux', 'two')]"
      ]
     },
     "execution_count": 73,
     "metadata": {},
     "output_type": "execute_result"
    }
   ],
   "source": [
    "tuples = list(zip(\n",
    "    *[['bar', 'bar', 'baz', 'baz',\n",
    "      'foo', 'foo', 'qux', 'qux'],\n",
    "      ['one', 'two', 'one', 'two',\n",
    "      'one', 'two', 'one', 'two']]\n",
    "    ))\n",
    "tuples"
   ]
  },
  {
   "cell_type": "code",
   "execution_count": 74,
   "metadata": {
    "collapsed": true
   },
   "outputs": [],
   "source": [
    "index = pd.MultiIndex.from_tuples(tuples, names=['first', 'second'])\n",
    "df = pd.DataFrame(np.random.randn(8, 2), index=index, columns=['A', 'B'])"
   ]
  },
  {
   "cell_type": "code",
   "execution_count": 76,
   "metadata": {
    "collapsed": false
   },
   "outputs": [
    {
     "data": {
      "text/html": [
       "<div>\n",
       "<table border=\"1\" class=\"dataframe\">\n",
       "  <thead>\n",
       "    <tr style=\"text-align: right;\">\n",
       "      <th></th>\n",
       "      <th></th>\n",
       "      <th>A</th>\n",
       "      <th>B</th>\n",
       "    </tr>\n",
       "    <tr>\n",
       "      <th>first</th>\n",
       "      <th>second</th>\n",
       "      <th></th>\n",
       "      <th></th>\n",
       "    </tr>\n",
       "  </thead>\n",
       "  <tbody>\n",
       "    <tr>\n",
       "      <th rowspan=\"2\" valign=\"top\">bar</th>\n",
       "      <th>one</th>\n",
       "      <td>-0.988363</td>\n",
       "      <td>0.933543</td>\n",
       "    </tr>\n",
       "    <tr>\n",
       "      <th>two</th>\n",
       "      <td>-2.023673</td>\n",
       "      <td>0.195101</td>\n",
       "    </tr>\n",
       "    <tr>\n",
       "      <th rowspan=\"2\" valign=\"top\">baz</th>\n",
       "      <th>one</th>\n",
       "      <td>-0.629870</td>\n",
       "      <td>-0.633085</td>\n",
       "    </tr>\n",
       "    <tr>\n",
       "      <th>two</th>\n",
       "      <td>-0.668175</td>\n",
       "      <td>0.910016</td>\n",
       "    </tr>\n",
       "  </tbody>\n",
       "</table>\n",
       "</div>"
      ],
      "text/plain": [
       "                     A         B\n",
       "first second                    \n",
       "bar   one    -0.988363  0.933543\n",
       "      two    -2.023673  0.195101\n",
       "baz   one    -0.629870 -0.633085\n",
       "      two    -0.668175  0.910016"
      ]
     },
     "execution_count": 76,
     "metadata": {},
     "output_type": "execute_result"
    }
   ],
   "source": [
    "df2 = df[:4]\n",
    "df2"
   ]
  },
  {
   "cell_type": "code",
   "execution_count": 77,
   "metadata": {
    "collapsed": false
   },
   "outputs": [
    {
     "data": {
      "text/plain": [
       "first  second   \n",
       "bar    one     A   -0.988363\n",
       "               B    0.933543\n",
       "       two     A   -2.023673\n",
       "               B    0.195101\n",
       "baz    one     A   -0.629870\n",
       "               B   -0.633085\n",
       "       two     A   -0.668175\n",
       "               B    0.910016\n",
       "dtype: float64"
      ]
     },
     "execution_count": 77,
     "metadata": {},
     "output_type": "execute_result"
    }
   ],
   "source": [
    "stacked = df2.stack()\n",
    "stacked"
   ]
  },
  {
   "cell_type": "code",
   "execution_count": 79,
   "metadata": {
    "collapsed": true
   },
   "outputs": [],
   "source": [
    "rng = pd.date_range('1/1/2012', periods=100, freq='S')"
   ]
  },
  {
   "cell_type": "code",
   "execution_count": 85,
   "metadata": {
    "collapsed": false
   },
   "outputs": [
    {
     "data": {
      "text/plain": [
       "2012-01-01 00:00:00    480\n",
       "2012-01-01 00:00:01    127\n",
       "2012-01-01 00:00:02    257\n",
       "2012-01-01 00:00:03    307\n",
       "2012-01-01 00:00:04    140\n",
       "2012-01-01 00:00:05    177\n",
       "2012-01-01 00:00:06     89\n",
       "2012-01-01 00:00:07    424\n",
       "2012-01-01 00:00:08    468\n",
       "2012-01-01 00:00:09      3\n",
       "2012-01-01 00:00:10     87\n",
       "2012-01-01 00:00:11     61\n",
       "2012-01-01 00:00:12    442\n",
       "2012-01-01 00:00:13     23\n",
       "2012-01-01 00:00:14    261\n",
       "2012-01-01 00:00:15    303\n",
       "2012-01-01 00:00:16    185\n",
       "2012-01-01 00:00:17     94\n",
       "2012-01-01 00:00:18     46\n",
       "2012-01-01 00:00:19    127\n",
       "2012-01-01 00:00:20    205\n",
       "2012-01-01 00:00:21    387\n",
       "2012-01-01 00:00:22     81\n",
       "2012-01-01 00:00:23    134\n",
       "2012-01-01 00:00:24    463\n",
       "2012-01-01 00:00:25    102\n",
       "2012-01-01 00:00:26     75\n",
       "2012-01-01 00:00:27    217\n",
       "2012-01-01 00:00:28     55\n",
       "2012-01-01 00:00:29    351\n",
       "                      ... \n",
       "2012-01-01 00:01:10    417\n",
       "2012-01-01 00:01:11     84\n",
       "2012-01-01 00:01:12    426\n",
       "2012-01-01 00:01:13    275\n",
       "2012-01-01 00:01:14    189\n",
       "2012-01-01 00:01:15    254\n",
       "2012-01-01 00:01:16    392\n",
       "2012-01-01 00:01:17    304\n",
       "2012-01-01 00:01:18      5\n",
       "2012-01-01 00:01:19     35\n",
       "2012-01-01 00:01:20     94\n",
       "2012-01-01 00:01:21    331\n",
       "2012-01-01 00:01:22    468\n",
       "2012-01-01 00:01:23    459\n",
       "2012-01-01 00:01:24    145\n",
       "2012-01-01 00:01:25    147\n",
       "2012-01-01 00:01:26    366\n",
       "2012-01-01 00:01:27    292\n",
       "2012-01-01 00:01:28    362\n",
       "2012-01-01 00:01:29    251\n",
       "2012-01-01 00:01:30    175\n",
       "2012-01-01 00:01:31    495\n",
       "2012-01-01 00:01:32    285\n",
       "2012-01-01 00:01:33    360\n",
       "2012-01-01 00:01:34    191\n",
       "2012-01-01 00:01:35    287\n",
       "2012-01-01 00:01:36    302\n",
       "2012-01-01 00:01:37    165\n",
       "2012-01-01 00:01:38    210\n",
       "2012-01-01 00:01:39    427\n",
       "Freq: S, dtype: int64"
      ]
     },
     "execution_count": 85,
     "metadata": {},
     "output_type": "execute_result"
    }
   ],
   "source": [
    "ts = pd.Series(np.random.randint(0, 500, len(rng)), index=rng)\n",
    "ts"
   ]
  },
  {
   "cell_type": "code",
   "execution_count": 90,
   "metadata": {
    "collapsed": false
   },
   "outputs": [
    {
     "data": {
      "text/plain": [
       "2012-01-01 00:00:00    205.05\n",
       "2012-01-01 00:00:20    222.45\n",
       "2012-01-01 00:00:40    238.05\n",
       "2012-01-01 00:01:00    239.10\n",
       "2012-01-01 00:01:20    290.60\n",
       "Freq: 20S, dtype: float64"
      ]
     },
     "execution_count": 90,
     "metadata": {},
     "output_type": "execute_result"
    }
   ],
   "source": [
    "ts.resample('20S').mean()"
   ]
  },
  {
   "cell_type": "code",
   "execution_count": 97,
   "metadata": {
    "collapsed": false
   },
   "outputs": [
    {
     "data": {
      "text/plain": [
       "DatetimeIndex(['2012-01-01 00:00:00', '2012-01-01 01:00:00',\n",
       "               '2012-01-01 02:00:00', '2012-01-01 03:00:00',\n",
       "               '2012-01-01 04:00:00', '2012-01-01 05:00:00',\n",
       "               '2012-01-01 06:00:00', '2012-01-01 07:00:00',\n",
       "               '2012-01-01 08:00:00', '2012-01-01 09:00:00',\n",
       "               ...\n",
       "               '2012-01-09 15:00:00', '2012-01-09 16:00:00',\n",
       "               '2012-01-09 17:00:00', '2012-01-09 18:00:00',\n",
       "               '2012-01-09 19:00:00', '2012-01-09 20:00:00',\n",
       "               '2012-01-09 21:00:00', '2012-01-09 22:00:00',\n",
       "               '2012-01-09 23:00:00', '2012-01-10 00:00:00'],\n",
       "              dtype='datetime64[ns]', length=217, freq='H')"
      ]
     },
     "execution_count": 97,
     "metadata": {},
     "output_type": "execute_result"
    }
   ],
   "source": [
    "pd.date_range(start='1/1/2012', end='1/10/2012', freq='H')#, freq='H')"
   ]
  },
  {
   "cell_type": "code",
   "execution_count": null,
   "metadata": {
    "collapsed": true
   },
   "outputs": [],
   "source": []
  }
 ],
 "metadata": {
  "kernelspec": {
   "display_name": "Python 2",
   "language": "python",
   "name": "python2"
  },
  "language_info": {
   "codemirror_mode": {
    "name": "ipython",
    "version": 2
   },
   "file_extension": ".py",
   "mimetype": "text/x-python",
   "name": "python",
   "nbconvert_exporter": "python",
   "pygments_lexer": "ipython2",
   "version": "2.7.11"
  }
 },
 "nbformat": 4,
 "nbformat_minor": 0
}
